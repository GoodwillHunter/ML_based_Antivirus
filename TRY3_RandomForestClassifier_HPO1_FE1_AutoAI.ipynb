{
 "cells": [
  {
   "cell_type": "markdown",
   "metadata": {
    "collapsed": true
   },
   "source": [
    "################################################################################\n",
    "#Licensed Materials - Property of IBM\n",
    "#(C) Copyright IBM Corp. 2020\n",
    "#US Government Users Restricted Rights - Use, duplication disclosure restricted\n",
    "#by GSA ADP Schedule Contract with IBM Corp.\n",
    "################################################################################\n",
    "\n",
    "The auto-generated notebooks are subject to the International License Agreement for Non-Warranted Programs (or equivalent) and License Information document for Watson Studio Auto-generated Notebook (License Terms), such agreements located in the link below.\n",
    "Specifically, the Source Components and Sample Materials clause included in the License Information document for\n",
    "Watson Studio Auto-generated Notebook applies to the auto-generated notebooks. \n",
    "By downloading, copying, accessing, or otherwise using the materials, you agree to the License Terms.\n",
    "http://www14.software.ibm.com/cgi-bin/weblap/lap.pl?li_formnum=L-AMCU-BHU2B7&title=IBM%20Watson%20Studio%20Auto-generated%20Notebook%20V2.1"
   ]
  },
  {
   "cell_type": "markdown",
   "metadata": {
    "pycharm": {
     "name": "#%% md\n"
    }
   },
   "source": [
    "### IBM AutoAI Auto-Generated Notebook v1.13.0\n",
    "\n",
    "**Note:** Notebook code generated using AutoAI will execute successfully. If code is modified or reordered,   \n",
    "there is no guarantee it will successfully execute. This pipeline is optimized for the original dataset.  \n",
    "The pipeline may fail or produce sub-optimium results if used with different data. For different data,  \n",
    "please consider returning to AutoAI Experiments to generate a new pipeline. Please read our documentation   \n",
    "for more information:   \n",
    "(Cloud Platform) https://dataplatform.cloud.ibm.com/docs/content/wsj/analyze-data/autoai-notebook.html .\n",
    "(Cloud Pak For Data) https://www.ibm.com/support/knowledgecenter/SSQNUZ_3.0.0/wsj/analyze-data/autoai-notebook.html .\n",
    "\n",
    "\n",
    "Before modifying the pipeline or trying to re-fit the pipeline, consider:   \n",
    "The notebook converts dataframes to numpy arrays before fitting the pipeline   \n",
    "(a current restriction of the preprocessor pipeline). The known_values_list is passed by reference   \n",
    "and populated with categorical values during fit of the preprocessing pipeline. Delete its members before re-fitting."
   ]
  },
  {
   "cell_type": "markdown",
   "metadata": {},
   "source": [
    "### Representing Pipeline from run: Pipeline_3 from run 893d6c4d-0483-4309-9a37-3e57ca6837f8\n"
   ]
  },
  {
   "cell_type": "markdown",
   "metadata": {},
   "source": [
    "### 1. Set Up\n",
    "If lightgbm or xgboost installation fails, please follow:\n",
    " - [lightgbm docs](https://lightgbm.readthedocs.io/en/latest/Installation-Guide.html)\n",
    " - [xgboost docs](https://xgboost.readthedocs.io/en/latest/build.html)"
   ]
  },
  {
   "cell_type": "code",
   "execution_count": null,
   "metadata": {},
   "outputs": [],
   "source": [
    "\n",
    "try:\n",
    "    import autoai_libs\n",
    "except Exception as e:\n",
    "    import subprocess\n",
    "    out = subprocess.check_output('pip install autoai-libs'.split(' '))\n",
    "    for line in out.splitlines():\n",
    "        print(line)\n",
    "    import autoai_libs\n",
    "import sklearn\n",
    "try:\n",
    "    import xgboost\n",
    "except:\n",
    "    print('xgboost, if needed, will be installed and imported later')\n",
    "try:\n",
    "    import lightgbm\n",
    "except:\n",
    "    print('lightgbm, if needed, will be installed and imported later')\n",
    "from sklearn.cluster import FeatureAgglomeration\n",
    "import numpy\n",
    "from numpy import inf, nan, dtype, mean\n",
    "from autoai_libs.sklearn.custom_scorers import CustomScorers\n",
    "import sklearn.ensemble\n",
    "from autoai_libs.cognito.transforms.transform_utils import TExtras, FC\n",
    "from autoai_libs.transformers.exportable import *\n",
    "from autoai_libs.utils.exportable_utils import *\n",
    "from sklearn.pipeline import Pipeline\n",
    "known_values_list=[]"
   ]
  },
  {
   "cell_type": "code",
   "execution_count": null,
   "metadata": {},
   "outputs": [],
   "source": [
    "# compose a decorator to assist pipeline instantiation via import of modules and installation of packages\n",
    "def decorator_retries(func):\n",
    "    def install_import_retry(*args, **kwargs):\n",
    "        retries = 0\n",
    "        successful = False\n",
    "        failed_retries = 0\n",
    "        while retries < 100 and failed_retries < 10 and not successful:\n",
    "            retries += 1\n",
    "            failed_retries += 1\n",
    "            try:\n",
    "                result = func(*args, **kwargs)\n",
    "                successful = True\n",
    "            except Exception as e:\n",
    "                estr = str(e)\n",
    "                if estr.startswith('name ') and estr.endswith(' is not defined'):\n",
    "                    try:\n",
    "                        import importlib\n",
    "                        module_name = estr.split(\"'\")[1]\n",
    "                        module = importlib.import_module(module_name)\n",
    "                        globals().update({module_name: module})\n",
    "                        print('import successful for ' + module_name)\n",
    "                        failed_retries -= 1\n",
    "                    except Exception as import_failure:\n",
    "                        print('import of ' + module_name + ' failed with: ' + str(import_failure))\n",
    "                        import subprocess\n",
    "                        if module_name == 'lightgbm':\n",
    "                            try:\n",
    "                                print('attempting pip install of ' + module_name)\n",
    "                                process = subprocess.Popen('pip install ' + module_name, shell=True)\n",
    "                                process.wait()\n",
    "                            except Exception as E:\n",
    "                                print(E)\n",
    "                                try:\n",
    "                                    import sys\n",
    "                                    print('attempting conda install of ' + module_name)\n",
    "                                    process = subprocess.Popen('conda install --yes --prefix {sys.prefix} -c powerai ' + module_name, shell = True)\n",
    "                                    process.wait()\n",
    "                                except Exception as lightgbm_installation_error:\n",
    "                                    print('lightgbm installation failed!' + lightgbm_installation_error)\n",
    "                        else:\n",
    "                            print('attempting pip install of ' + module_name)\n",
    "                            process = subprocess.Popen('pip install ' + module_name, shell=True)\n",
    "                            process.wait()\n",
    "                        try:\n",
    "                            print('re-attempting import of ' + module_name)\n",
    "                            module = importlib.import_module(module_name)\n",
    "                            globals().update({module_name: module})\n",
    "                            print('import successful for ' + module_name)\n",
    "                            failed_retries -= 1\n",
    "                        except Exception as import_or_installation_failure:\n",
    "                            print('failure installing and/or importing ' + module_name + ' error was: ' + str(\n",
    "                                import_or_installation_failure))\n",
    "                            raise (ModuleNotFoundError('Missing package in environment for ' + module_name +\n",
    "                                                       '? Try import and/or pip install manually?'))\n",
    "                elif type(e) is AttributeError:\n",
    "                    if 'module ' in estr and ' has no attribute ' in estr:\n",
    "                        pieces = estr.split(\"'\")\n",
    "                        if len(pieces) == 5:\n",
    "                            try:\n",
    "                                import importlib\n",
    "                                print('re-attempting import of ' + pieces[3] + ' from ' + pieces[1])\n",
    "                                module = importlib.import_module('.' + pieces[3], pieces[1])\n",
    "                                failed_retries -= 1\n",
    "                            except:\n",
    "                                print('failed attempt to import ' + pieces[3])\n",
    "                                raise (e)\n",
    "                        else:\n",
    "                            raise (e)\n",
    "                else:\n",
    "                    raise (e)\n",
    "        if successful:\n",
    "            print('Pipeline successfully instantiated')\n",
    "        else:\n",
    "            raise (ModuleNotFoundError(\n",
    "                'Remaining missing imports/packages in environment? Retry cell and/or try pip install manually?'))\n",
    "        return result\n",
    "    return install_import_retry\n"
   ]
  },
  {
   "cell_type": "markdown",
   "metadata": {},
   "source": [
    "### 2. Compose Pipeline"
   ]
  },
  {
   "cell_type": "code",
   "execution_count": null,
   "metadata": {},
   "outputs": [],
   "source": [
    "# metadata necessary to replicate AutoAI scores with the pipeline\n",
    "_input_metadata = {'separator': ',', 'excel_sheet': 0, 'target_label_name': 'legitimate', 'learning_type': 'classification', 'subsampling': None, 'pos_label': '0', 'run_uid': '893d6c4d-0483-4309-9a37-3e57ca6837f8', 'pn': 'P3', 'cv_num_folds': 3, 'holdout_fraction': 0.1, 'optimization_metric': 'accuracy', 'random_state': 33, 'data_source': ''}\n",
    "\n",
    "# define a function to compose the pipeline, and invoke it\n",
    "@decorator_retries\n",
    "def compose_pipeline():\n",
    "    import numpy\n",
    "    from numpy import nan, dtype, mean\n",
    "    #\n",
    "    # composing steps for toplevel Pipeline\n",
    "    #\n",
    "    _input_metadata = {'separator': ',', 'excel_sheet': 0, 'target_label_name': 'legitimate', 'learning_type': 'classification', 'subsampling': None, 'pos_label': '0', 'run_uid': '893d6c4d-0483-4309-9a37-3e57ca6837f8', 'pn': 'P3', 'cv_num_folds': 3, 'holdout_fraction': 0.1, 'optimization_metric': 'accuracy', 'random_state': 33, 'data_source': ''}\n",
    "    steps = []\n",
    "    #\n",
    "    # composing steps for preprocessor Pipeline\n",
    "    #\n",
    "    preprocessor__input_metadata = None\n",
    "    preprocessor_steps = []\n",
    "    #\n",
    "    # composing steps for preprocessor_features FeatureUnion\n",
    "    #\n",
    "    preprocessor_features_transformer_list = []\n",
    "    #\n",
    "    # composing steps for preprocessor_features_categorical Pipeline\n",
    "    #\n",
    "    preprocessor_features_categorical__input_metadata = None\n",
    "    preprocessor_features_categorical_steps = []\n",
    "    preprocessor_features_categorical_steps.append(('cat_column_selector', autoai_libs.transformers.exportable.NumpyColumnSelector(columns=[0, 1, 3, 4, 12, 13, 14, 15, 16, 17, 18, 19, 21, 23, 24, 25, 26, 27, 28, 29, 30, 31, 41, 52, 53])))\n",
    "    preprocessor_features_categorical_steps.append(('cat_compress_strings', autoai_libs.transformers.exportable.CompressStrings(activate_flag=True, compress_type='hash', dtypes_list=['float_int_num', 'float_int_num', 'float_int_num', 'float_int_num', 'float_int_num', 'float_int_num', 'float_int_num', 'float_int_num', 'float_int_num', 'float_int_num', 'float_int_num', 'float_int_num', 'float_int_num', 'float_int_num', 'float_int_num', 'float_int_num', 'float_int_num', 'float_int_num', 'float_int_num', 'float_int_num', 'float_int_num', 'float_int_num', 'float_int_num', 'float_int_num', 'float_int_num'], missing_values_reference_list=['', '-', '?', nan], misslist_list=[[], [], [], [], [], [], [], [], [], [], [], [], [], [], [], [], [], [], [], [], [], [], [], [], []])))\n",
    "    preprocessor_features_categorical_steps.append(('cat_missing_replacer', autoai_libs.transformers.exportable.NumpyReplaceMissingValues(filling_values=100001, missing_values=[])))\n",
    "    preprocessor_features_categorical_steps.append(('cat_unknown_replacer', autoai_libs.transformers.exportable.NumpyReplaceUnknownValues(filling_values=100001, filling_values_list=[100001, 100001, 100001, 100001, 100001, 100001, 100001, 100001, 100001, 100001, 100001, 100001, 100001, 100001, 100001, 100001, 100001, 100001, 100001, 100001, 100001, 100001, 100001, 100001, 100001], known_values_list=[[332.0, 512.0, 34404.0], [224.0, 232.0, 240.0, 248.0, 352.0], [0.0, 1.0, 2.0, 3.0, 4.0, 5.0, 6.0, 7.0, 8.0, 9.0, 10.0, 11.0, 12.0, 13.0, 14.0, 15.0, 16.0, 18.0, 24.0, 25.0, 27.0, 29.0, 30.0, 31.0, 40.0, 43.0, 48.0, 62.0, 66.0, 75.0, 83.0, 119.0, 125.0, 146.0, 154.0, 187.0, 242.0, 253.0, 255.0], [0.0, 1.0, 2.0, 3.0, 4.0, 5.0, 6.0, 7.0, 8.0, 9.0, 10.0, 11.0, 12.0, 13.0, 14.0, 15.0, 16.0, 18.0, 19.0, 20.0, 21.0, 22.0, 23.0, 24.0, 25.0, 26.0, 28.0, 29.0, 31.0, 32.0, 34.0, 35.0, 37.0, 38.0, 41.0, 42.0, 50.0, 52.0, 53.0, 55.0, 56.0, 57.0, 58.0, 60.0, 62.0, 64.0, 67.0, 69.0, 70.0, 73.0, 82.0, 84.0, 88.0, 90.0, 94.0, 160.0, 238.0, 250.0, 252.0, 255.0], [16.0, 32.0, 64.0, 128.0, 512.0, 2048.0, 4096.0, 8192.0, 16384.0, 65536.0, 2097152.0, 134217728.0], [16.0, 32.0, 64.0, 128.0, 512.0, 1024.0, 2048.0, 4096.0, 65536.0], [0.0, 1.0, 2.0, 3.0, 4.0, 5.0, 6.0, 7.0, 8.0, 9.0, 10.0, 36868.0], [0.0, 1.0, 2.0, 3.0, 4.0, 6.0, 11.0, 35.0, 256.0, 257.0, 9985.0, 17757.0], [0.0, 1.0, 2.0, 3.0, 4.0, 5.0, 6.0, 7.0, 8.0, 9.0, 10.0, 12.0, 13.0, 17.0, 20.0, 22.0, 28.0, 43.0, 45.0, 50.0, 55.0, 60.0, 75.0, 143.0, 900.0, 999.0, 1674.0, 1741.0, 1762.0, 2011.0, 3270.0, 3487.0, 5645.0, 7641.0, 9194.0, 9849.0, 21315.0, 28619.0], [0.0, 1.0, 2.0, 3.0, 4.0, 5.0, 6.0, 7.0, 8.0, 9.0, 10.0, 11.0, 13.0, 14.0, 15.0, 16.0, 17.0, 18.0, 19.0, 20.0, 21.0, 22.0, 24.0, 25.0, 26.0, 27.0, 31.0, 32.0, 33.0, 34.0, 39.0, 40.0, 43.0, 44.0, 45.0, 47.0, 52.0, 56.0, 58.0, 59.0, 68.0, 69.0, 76.0, 81.0, 82.0, 83.0, 84.0, 90.0, 98.0, 100.0, 183.0, 191.0, 234.0, 258.0, 434.0, 545.0, 601.0, 665.0, 684.0, 706.0, 777.0, 1000.0, 1026.0, 2900.0, 4984.0, 9846.0, 11335.0, 20512.0], [1.0, 3.0, 4.0, 5.0, 6.0, 10.0], [0.0, 1.0, 2.0, 3.0, 7.0, 10.0, 17.0, 50.0, 256.0, 47600.0], [448.0, 512.0, 528.0, 544.0, 576.0, 640.0, 648.0, 728.0, 736.0, 768.0, 800.0, 832.0, 896.0, 1024.0, 1152.0, 1184.0, 1408.0, 1536.0, 2048.0, 2560.0, 3072.0, 4096.0, 8192.0, 29184.0, 30208.0, 65536.0, 724992.0, 770048.0, 786432.0], [1.0, 2.0, 3.0, 16.0], [0.0, 1.0, 2.0, 3.0, 4.0, 6.0, 7.0, 10.0, 15.0, 16.0, 17.0, 19.0, 22.0, 32.0, 36.0, 37.0, 40.0, 41.0, 48.0, 51.0, 64.0, 72.0, 128.0, 256.0, 288.0, 320.0, 352.0, 448.0, 514.0, 519.0, 544.0, 768.0, 1024.0, 1088.0, 1280.0, 1344.0, 1376.0, 2048.0, 2560.0, 4112.0, 6144.0, 6160.0, 8512.0, 9536.0, 16384.0, 16401.0, 16704.0, 16736.0, 18448.0, 32768.0, 32832.0, 32896.0, 32960.0, 33024.0, 33040.0, 33056.0, 33088.0, 33120.0, 33216.0, 33280.0, 33536.0, 33600.0, 33792.0, 33824.0, 33856.0, 34048.0, 34112.0, 34144.0, 34816.0, 36864.0, 49216.0, 49472.0, 49504.0], [0.0, 4096.0, 10240.0, 16384.0, 32000.0, 65536.0, 131072.0, 204800.0, 262144.0, 327680.0, 524288.0, 983040.0, 1000000.0, 1048576.0, 1073152.0, 1081344.0, 1085440.0, 1093632.0, 1100000.0, 1105920.0, 1310720.0, 1376256.0, 1474560.0, 1572864.0, 1617920.0, 2000000.0, 2048576.0, 2097152.0, 2162688.0, 3000000.0, 4000000.0, 4194304.0, 5000000.0, 8388608.0, 10000000.0, 10485760.0, 12582912.0, 16777216.0, 30408704.0, 33554432.0], [0.0, 256.0, 1024.0, 4096.0, 8000.0, 8192.0, 12288.0, 16384.0, 20480.0, 24576.0, 26384.0, 28672.0, 32768.0, 36864.0, 40000.0, 45056.0, 49152.0, 57344.0, 61440.0, 65536.0, 69632.0, 71680.0, 80000.0, 81200.0, 81920.0, 90112.0, 98304.0, 100000.0, 102400.0, 131072.0, 155648.0, 262144.0, 500000.0, 524288.0, 815104.0, 1032192.0, 1036288.0, 1048576.0, 2097152.0], [0.0, 4096.0, 5120.0, 8000.0, 8096.0, 8192.0, 10000.0, 10240.0, 28672.0, 32000.0, 65536.0, 69632.0, 77824.0, 90112.0, 135168.0, 167936.0, 200000.0, 237568.0, 256000.0, 262144.0, 1048576.0, 1167360.0, 1462272.0, 1736704.0, 1835008.0, 2048000.0, 2097152.0, 2166784.0, 4194304.0, 13631488.0], [0.0, 1.0, 256.0, 4096.0, 4097.0, 4352.0, 8192.0, 28672.0, 32768.0, 36864.0, 49152.0, 61440.0, 65536.0, 65537.0, 94208.0, 131072.0, 1155072.0, 1196032.0, 5767425.0, 2077323491.0], [0.0, 1.0, 21.0, 256.0, 1340.0, 3918.0, 7118.0, 8368.0, 13049.0, 15839.0, 17509.0, 32618.0, 1421721.0, 323315710.0, 2328297507.0], [7.0, 10.0, 14.0, 15.0, 16.0, 17.0, 32.0, 33.0, 48.0, 3316.0, 3832.0, 10667.0, 14812.0, 23203.0, 24576.0, 48315183.0, 255866049.0, 408335829.0, 478545063.0, 503918976.0, 2415919120.0, 3402309701.0], [1.0, 2.0, 3.0, 4.0, 5.0, 6.0, 7.0, 8.0, 9.0, 10.0, 11.0, 12.0, 13.0, 14.0, 15.0, 16.0, 17.0, 18.0, 19.0, 20.0, 21.0, 22.0, 24.0, 25.0, 26.0, 28.0, 38.0, 40.0], [0.0, 1.0, 2.0, 3.0, 4.0, 5.0, 6.0, 7.0, 8.0, 9.0, 10.0, 11.0, 12.0, 13.0, 14.0, 15.0, 16.0, 17.0, 18.0, 19.0, 20.0, 21.0, 22.0, 23.0, 24.0, 25.0, 26.0, 27.0, 28.0, 29.0, 30.0, 31.0, 32.0, 33.0, 34.0, 37.0, 38.0, 39.0, 40.0, 41.0, 42.0, 47.0, 61.0, 79.0, 158.0, 210.0, 274.0, 280.0], [0.0, 72.0, 92.0, 104.0, 112.0, 148.0, 160.0, 10224.0, 25972.0, 65566.0, 55728725.0, 55794517.0, 55952779.0, 55958923.0, 56057685.0, 100663302.0, 323606403.0, 531607210.0, 868584277.0, 869108565.0, 869632853.0, 870157141.0, 872254293.0, 1037048887.0, 1098478177.0, 1131701587.0, 1181054057.0, 1481983811.0, 1532562539.0, 1699964276.0, 1701999221.0, 1769236850.0, 1916993669.0, 1953702002.0, 2198873204.0, 2213520143.0, 2734751745.0, 4294967294.0], [0.0, 7.0, 8.0, 9.0, 10.0, 11.0, 12.0, 13.0, 14.0, 15.0, 16.0, 17.0, 18.0, 19.0, 20.0, 21.0, 22.0, 23.0, 26.0]], missing_values_reference_list=['', '-', '?', nan])))\n",
    "    preprocessor_features_categorical_steps.append(('boolean2float_transformer', autoai_libs.transformers.exportable.boolean2float(activate_flag=True)))\n",
    "    preprocessor_features_categorical_steps.append(('cat_imputer', autoai_libs.transformers.exportable.CatImputer(activate_flag=True, missing_values=100001, sklearn_version_family='20', strategy='most_frequent')))\n",
    "    preprocessor_features_categorical_steps.append(('cat_encoder', autoai_libs.transformers.exportable.CatEncoder(activate_flag=True, categories='auto', dtype=numpy.float64, encoding='ordinal', handle_unknown='error', sklearn_version_family='20')))\n",
    "    preprocessor_features_categorical_steps.append(('float32_transformer', autoai_libs.transformers.exportable.float32_transform(activate_flag=True)))\n",
    "    # assembling preprocessor_features_categorical_ Pipeline\n",
    "    preprocessor_features_categorical_pipeline = sklearn.pipeline.Pipeline(steps=preprocessor_features_categorical_steps)\n",
    "    preprocessor_features_transformer_list.append(('categorical', preprocessor_features_categorical_pipeline))\n",
    "    #\n",
    "    # composing steps for preprocessor_features_numeric Pipeline\n",
    "    #\n",
    "    preprocessor_features_numeric__input_metadata = None\n",
    "    preprocessor_features_numeric_steps = []\n",
    "    preprocessor_features_numeric_steps.append(('num_column_selector', autoai_libs.transformers.exportable.NumpyColumnSelector(columns=[2, 5, 6, 7, 8, 9, 10, 11, 20, 22, 32, 33, 34, 35, 36, 37, 38, 39, 40, 42, 43, 44, 45, 46, 47, 48, 49, 50, 51])))\n",
    "    preprocessor_features_numeric_steps.append(('num_floatstr2float_transformer', autoai_libs.transformers.exportable.FloatStr2Float(activate_flag=True, dtypes_list=['float_int_num', 'float_int_num', 'float_int_num', 'float_int_num', 'float_int_num', 'float_int_num', 'float_int_num', 'float_int_num', 'float_int_num', 'float_int_num', 'float_num', 'float_num', 'float_num', 'float_num', 'float_int_num', 'float_int_num', 'float_num', 'float_int_num', 'float_int_num', 'float_int_num', 'float_int_num', 'float_int_num', 'float_int_num', 'float_num', 'float_num', 'float_num', 'float_num', 'float_int_num', 'float_int_num'], missing_values_reference_list=[])))\n",
    "    preprocessor_features_numeric_steps.append(('num_missing_replacer', autoai_libs.transformers.exportable.NumpyReplaceMissingValues(filling_values=nan, missing_values=[])))\n",
    "    preprocessor_features_numeric_steps.append(('num_imputer', autoai_libs.transformers.exportable.NumImputer(activate_flag=True, missing_values=nan, strategy='median')))\n",
    "    preprocessor_features_numeric_steps.append(('num_scaler', autoai_libs.transformers.exportable.OptStandardScaler(num_scaler_copy=None, num_scaler_with_mean=None, num_scaler_with_std=None, use_scaler_flag=False)))\n",
    "    preprocessor_features_numeric_steps.append(('float32_transformer', autoai_libs.transformers.exportable.float32_transform(activate_flag=True)))\n",
    "    # assembling preprocessor_features_numeric_ Pipeline\n",
    "    preprocessor_features_numeric_pipeline = sklearn.pipeline.Pipeline(steps=preprocessor_features_numeric_steps)\n",
    "    preprocessor_features_transformer_list.append(('numeric', preprocessor_features_numeric_pipeline))\n",
    "    # assembling preprocessor_features_ FeatureUnion\n",
    "    preprocessor_features_pipeline = sklearn.pipeline.FeatureUnion(transformer_list=preprocessor_features_transformer_list)\n",
    "    preprocessor_steps.append(('features', preprocessor_features_pipeline))\n",
    "    preprocessor_steps.append(('permuter', autoai_libs.transformers.exportable.NumpyPermuteArray(axis=0, permutation_indices=[0, 1, 3, 4, 12, 13, 14, 15, 16, 17, 18, 19, 21, 23, 24, 25, 26, 27, 28, 29, 30, 31, 41, 52, 53, 2, 5, 6, 7, 8, 9, 10, 11, 20, 22, 32, 33, 34, 35, 36, 37, 38, 39, 40, 42, 43, 44, 45, 46, 47, 48, 49, 50, 51])))\n",
    "    # assembling preprocessor_ Pipeline\n",
    "    preprocessor_pipeline = sklearn.pipeline.Pipeline(steps=preprocessor_steps)\n",
    "    steps.append(('preprocessor', preprocessor_pipeline))\n",
    "    #\n",
    "    # composing steps for cognito Pipeline\n",
    "    #\n",
    "    cognito__input_metadata = None\n",
    "    cognito_steps = []\n",
    "    cognito_steps.append(('0', autoai_libs.cognito.transforms.transform_utils.TA1(fun=numpy.sqrt, name='sqrt', datatypes=['numeric'], feat_constraints=[autoai_libs.utils.fc_methods.is_non_negative, autoai_libs.utils.fc_methods.is_not_categorical], tgraph=None, apply_all=True, col_names=['Machine', 'SizeOfOptionalHeader', 'Characteristics', 'MajorLinkerVersion', 'MinorLinkerVersion', 'SizeOfCode', 'SizeOfInitializedData', 'SizeOfUninitializedData', 'AddressOfEntryPoint', 'BaseOfCode', 'BaseOfData', 'ImageBase', 'SectionAlignment', 'FileAlignment', 'MajorOperatingSystemVersion', 'MinorOperatingSystemVersion', 'MajorImageVersion', 'MinorImageVersion', 'MajorSubsystemVersion', 'MinorSubsystemVersion', 'SizeOfImage', 'SizeOfHeaders', 'CheckSum', 'Subsystem', 'DllCharacteristics', 'SizeOfStackReserve', 'SizeOfStackCommit', 'SizeOfHeapReserve', 'SizeOfHeapCommit', 'LoaderFlags', 'NumberOfRvaAndSizes', 'SectionsNb', 'SectionsMeanEntropy', 'SectionsMinEntropy', 'SectionsMaxEntropy', 'SectionsMeanRawsize', 'SectionsMinRawsize', 'SectionMaxRawsize', 'SectionsMeanVirtualsize', 'SectionsMinVirtualsize', 'SectionMaxVirtualsize', 'ImportsNbDLL', 'ImportsNb', 'ImportsNbOrdinal', 'ExportNb', 'ResourcesNb', 'ResourcesMeanEntropy', 'ResourcesMinEntropy', 'ResourcesMaxEntropy', 'ResourcesMeanSize', 'ResourcesMinSize', 'ResourcesMaxSize', 'LoadConfigurationSize', 'VersionInformationSize'], col_dtypes=[dtype('float32'), dtype('float32'), dtype('float32'), dtype('float32'), dtype('float32'), dtype('float32'), dtype('float32'), dtype('float32'), dtype('float32'), dtype('float32'), dtype('float32'), dtype('float32'), dtype('float32'), dtype('float32'), dtype('float32'), dtype('float32'), dtype('float32'), dtype('float32'), dtype('float32'), dtype('float32'), dtype('float32'), dtype('float32'), dtype('float32'), dtype('float32'), dtype('float32'), dtype('float32'), dtype('float32'), dtype('float32'), dtype('float32'), dtype('float32'), dtype('float32'), dtype('float32'), dtype('float32'), dtype('float32'), dtype('float32'), dtype('float32'), dtype('float32'), dtype('float32'), dtype('float32'), dtype('float32'), dtype('float32'), dtype('float32'), dtype('float32'), dtype('float32'), dtype('float32'), dtype('float32'), dtype('float32'), dtype('float32'), dtype('float32'), dtype('float32'), dtype('float32'), dtype('float32'), dtype('float32'), dtype('float32')], col_as_json_objects=None)))\n",
    "    cognito_steps.append(('1', autoai_libs.cognito.transforms.transform_utils.FS1(cols_ids_must_keep=range(0, 54), additional_col_count_to_keep=30, ptype='classification')))\n",
    "    # assembling cognito_ Pipeline\n",
    "    cognito_pipeline = sklearn.pipeline.Pipeline(steps=cognito_steps)\n",
    "    steps.append(('cognito', cognito_pipeline))\n",
    "    steps.append(('estimator', sklearn.ensemble.forest.RandomForestClassifier(bootstrap=True, class_weight='balanced', criterion='gini', max_depth=None, max_features='auto', max_leaf_nodes=None, min_impurity_decrease=0.0, min_impurity_split=None, min_samples_leaf=1, min_samples_split=2, min_weight_fraction_leaf=0.0, n_estimators=10, n_jobs=2, oob_score=True, random_state=33, verbose=0, warm_start=False)))\n",
    "    # assembling  Pipeline\n",
    "    pipeline = sklearn.pipeline.Pipeline(steps=steps)\n",
    "    return pipeline\n",
    "pipeline = compose_pipeline()\n"
   ]
  },
  {
   "cell_type": "markdown",
   "metadata": {},
   "source": [
    "### 3. Extract needed parameter values from AutoAI run metadata"
   ]
  },
  {
   "cell_type": "code",
   "execution_count": null,
   "metadata": {},
   "outputs": [],
   "source": [
    "\n",
    "# Metadata used in retrieving data and computing metrics.  Customize as necessary for your environment.\n",
    "#data_source='replace_with_path_and_csv_filename'\n",
    "target_label_name = _input_metadata['target_label_name']\n",
    "learning_type = _input_metadata['learning_type']\n",
    "optimization_metric = _input_metadata['optimization_metric']\n",
    "random_state = _input_metadata['random_state']\n",
    "cv_num_folds = _input_metadata['cv_num_folds']\n",
    "holdout_fraction = _input_metadata['holdout_fraction']\n",
    "if 'data_provenance' in _input_metadata:\n",
    "    data_provenance = _input_metadata['data_provenance']\n",
    "else:\n",
    "    data_provenance = None\n",
    "if 'pos_label' in _input_metadata and learning_type == 'classification':\n",
    "    pos_label = _input_metadata['pos_label']\n",
    "else:\n",
    "    pos_label = None\n"
   ]
  },
  {
   "cell_type": "markdown",
   "metadata": {},
   "source": [
    "### 4. Create dataframe from dataset in Cloud Object Storage"
   ]
  },
  {
   "cell_type": "code",
   "execution_count": null,
   "metadata": {},
   "outputs": [],
   "source": [
    "\n",
    "# @hidden_cell\n",
    "# The following code contains the credentials for a file in your IBM Cloud Object Storage.\n",
    "# You might want to remove those credentials before you share your notebook.\n",
    "credentials_0 = {\n",
    "    'ENDPOINT': 'https://s3-api.us-geo.objectstorage.softlayer.net',\n",
    "    'IBM_AUTH_ENDPOINT': 'https://iam.bluemix.net/oidc/token/',\n",
    "    'APIKEY': 'T2capvce-lQpCJ_tsf7No5KYbRv-JiJKH0OwOmN9MN6_',\n",
    "    'BUCKET': 'virusdetection-donotdelete-pr-j5x4rlv136kegr',\n",
    "    'FILE': 'virusdata.csv',\n",
    "    'SERVICE_NAME': 's3',\n",
    "    'ASSET_ID': '1',\n",
    "    }\n"
   ]
  },
  {
   "cell_type": "code",
   "execution_count": null,
   "metadata": {},
   "outputs": [],
   "source": [
    "#  Read the data as a dataframe\n",
    "import pandas as pd\n",
    "\n",
    "csv_encodings=['UTF-8','Latin-1'] # supplement list of encodings as necessary for your data\n",
    "df = None\n",
    "readable = None  # if automatic detection fails, you can supply a filename here\n",
    "\n",
    "# First, obtain a readable object\n",
    "# Cloud Object Storage data access\n",
    "# Assumes COS credentials are in a dictionary named 'credentials_0'\n",
    "   \n",
    "credentials = df = globals().get('credentials_0')       \n",
    "if readable is None and credentials is not None :\n",
    "    try:\n",
    "        import types\n",
    "        import pandas as pd\n",
    "        import io\n",
    "    except Exception as import_exception:\n",
    "        print('Error with importing packages - check if you installed them on your environment')\n",
    "    try:\n",
    "        if credentials['SERVICE_NAME'] == 's3':\n",
    "            try:\n",
    "                from botocore.client import Config\n",
    "                import ibm_boto3\n",
    "            except Exception as import_exception:\n",
    "                print('Installing required packages!')\n",
    "                !pip install ibm-cos-sdk\n",
    "                print('accessing data via Cloud Object Storage')\n",
    "            try:\n",
    "                client = ibm_boto3.client(service_name=credentials['SERVICE_NAME'],\n",
    "                                    ibm_api_key_id=credentials['APIKEY'],\n",
    "                                    ibm_auth_endpoint=credentials['IBM_AUTH_ENDPOINT'],\n",
    "                                    config=Config(signature_version='oauth'),\n",
    "                                    endpoint_url=credentials['ENDPOINT'])\n",
    "            except Exception as cos_exception:\n",
    "                print('unable to create client for cloud object storage')\n",
    "            try:\n",
    "                readable = client.get_object(Bucket=credentials['BUCKET'],Key=credentials['FILE'])['Body']\n",
    "                # add missing __iter__ method, so pandas accepts readable as file-like object\n",
    "                if not hasattr(readable, \"__iter__\"): readable.__iter__ = types.MethodType( __iter__, readable )\n",
    "            except Exception as cos_access_exception:\n",
    "                print('unable to access data object in cloud object storage with credentials supplied')\n",
    "        elif credentials['SERVICE_NAME'] == 'fs':\n",
    "            print('accessing data via File System')\n",
    "            try:\n",
    "                if credentials['FILE'].endswith('xlsx') or credentials['FILE'].endswith('xls'):\n",
    "                    df = pd.read_excel(credentials['FILE'])\n",
    "                else:\n",
    "                    df = pd.read_csv(credentials['FILE'], sep = _input_metadata['separator'])\n",
    "            except Exception as FS_access_exception:\n",
    "                print('unable to access data object in File System with path supplied') \n",
    "    except Exception as data_access_exception:\n",
    "        print('unable to access data object with credentials supplied') \n",
    "\n",
    "# IBM Cloud Pak for Data data access\n",
    "project_filename = globals().get('project_filename')       \n",
    "if readable is None and 'credentials_0' in globals() and 'ASSET_ID' in credentials_0:\n",
    "    project_filename = credentials_0['ASSET_ID']\n",
    "if project_filename != 'None' and project_filename != '1':\n",
    "    print('attempting project_lib access to ' + str(project_filename))\n",
    "    try:\n",
    "        from project_lib import Project\n",
    "        project = Project.access()\n",
    "        storage_credentials = project.get_storage_metadata()\n",
    "        readable = project.get_file(project_filename)\n",
    "    except Exception as project_exception:\n",
    "        print('unable to access data using the project_lib interface and filename supplied')\n",
    "\n",
    "# Use data_provenance as filename if other access mechanisms are unsuccessful\n",
    "if readable is None and type(data_provenance) is str:\n",
    "    print('attempting to access local file using path and name ' + data_provenance)\n",
    "    readable = data_provenance\n",
    "\n",
    "# Second, use pd.read_csv to read object, iterating over list of csv_encodings until successful\n",
    "if readable is not None:\n",
    "    for encoding in csv_encodings:\n",
    "        try:\n",
    "            if credentials['FILE'].endswith('xlsx') or credentials['FILE'].endswith('xls'):\n",
    "                buffer = io.BytesIO(readable.read())\n",
    "                buffer.seek(0)\n",
    "                df = pd.read_excel(buffer, encoding=encoding,sheet_name=_input_metadata['excel_sheet'])\n",
    "            else:\n",
    "                df = pd.read_csv(readable, encoding = encoding, sep = _input_metadata['separator'])\n",
    "            print('successfully loaded dataframe using encoding = ' + str(encoding))\n",
    "            break\n",
    "        except Exception as exception_dataread:\n",
    "            print('unable to read csv using encoding ' + str(encoding))\n",
    "            print('handled error was ' + str(exception_dataread))\n",
    "    if df is None:\n",
    "        print('unable to read file/object as a dataframe using supplied csv_encodings ' + str(csv_encodings))\n",
    "        print(f'Please use \\'insert to code\\' on data panel to load dataframe.')\n",
    "        raise(ValueError('unable to read file/object as a dataframe using supplied csv_encodings ' + str(csv_encodings)))\n",
    "\n",
    "if isinstance(df,pd.DataFrame):\n",
    "    print('Data loaded succesfully')\n",
    "    if _input_metadata.get('subsampling') is not None:\n",
    "        df = df.sample(frac=_input_metadata['subsampling'], random_state=_input_metadata['random_state']) if _input_metadata['subsampling'] <= 1.0 else df.sample(n=_input_metadata['subsampling'])\n",
    "else:\n",
    "    print('Data cannot be loaded with credentials supplied, please provide DataFrame with training data.')"
   ]
  },
  {
   "cell_type": "markdown",
   "metadata": {},
   "source": [
    "### 5. Preprocess Data"
   ]
  },
  {
   "cell_type": "code",
   "execution_count": null,
   "metadata": {},
   "outputs": [],
   "source": [
    "# Drop rows whose target is not defined\n",
    "target = target_label_name # your target name here\n",
    "if learning_type == 'regression':\n",
    "    df[target] = pd.to_numeric(df[target], errors='coerce')\n",
    "df.dropna('rows', how='any', subset=[target], inplace=True)\n"
   ]
  },
  {
   "cell_type": "code",
   "execution_count": null,
   "metadata": {},
   "outputs": [],
   "source": [
    "# extract X and y\n",
    "df_X = df.drop(columns=[target])\n",
    "df_y = df[target]\n"
   ]
  },
  {
   "cell_type": "code",
   "execution_count": null,
   "metadata": {},
   "outputs": [],
   "source": [
    "# Detach preprocessing pipeline (which needs to see all training data)\n",
    "preprocessor_index = -1\n",
    "preprocessing_steps = [] \n",
    "for i, step in enumerate(pipeline.steps):\n",
    "    preprocessing_steps.append(step)\n",
    "    if step[0]=='preprocessor':\n",
    "        preprocessor_index = i\n",
    "        break\n",
    "#if len(pipeline.steps) > preprocessor_index+1 and pipeline.steps[preprocessor_index + 1][0] == 'cognito':\n",
    "    #preprocessor_index += 1\n",
    "    #preprocessing_steps.append(pipeline.steps[preprocessor_index])\n",
    "if preprocessor_index >= 0:\n",
    "    preprocessing_pipeline = Pipeline(memory=pipeline.memory, steps=preprocessing_steps)\n",
    "    pipeline = Pipeline(steps=pipeline.steps[preprocessor_index+1:])"
   ]
  },
  {
   "cell_type": "code",
   "execution_count": null,
   "metadata": {},
   "outputs": [],
   "source": [
    "# Preprocess X\n",
    "# preprocessor should see all data for cross_validate on the remaining steps to match autoai scores\n",
    "known_values_list.clear()  #  known_values_list is filled in by the preprocessing_pipeline if needed\n",
    "preprocessing_pipeline.fit(df_X.values, df_y.values)\n",
    "X_prep = preprocessing_pipeline.transform(df_X.values)"
   ]
  },
  {
   "cell_type": "markdown",
   "metadata": {},
   "source": [
    "### 6. Split data into Training and Holdout sets"
   ]
  },
  {
   "cell_type": "code",
   "execution_count": null,
   "metadata": {},
   "outputs": [],
   "source": [
    "# determine learning_type and perform holdout split (stratify conditionally)\n",
    "if learning_type is None:\n",
    "    # When the problem type is not available in the metadata, use the sklearn type_of_target to determine whether to stratify the holdout split\n",
    "    # Caution:  This can mis-classify regression targets that can be expressed as integers as multiclass, in which case manually override the learning_type\n",
    "    from sklearn.utils.multiclass import type_of_target\n",
    "    if type_of_target(df_y.values) in ['multiclass', 'binary']:\n",
    "        learning_type = 'classification'\n",
    "    else:\n",
    "        learning_type = 'regression'\n",
    "    print('learning_type determined by type_of_target as:',learning_type)\n",
    "else:\n",
    "    print('learning_type specified as:',learning_type)\n",
    "    \n",
    "from sklearn.model_selection import train_test_split\n",
    "if learning_type == 'classification':\n",
    "    X, X_holdout, y, y_holdout = train_test_split(X_prep, df_y.values, test_size=holdout_fraction, random_state=random_state, stratify=df_y.values)\n",
    "else:\n",
    "    X, X_holdout, y, y_holdout = train_test_split(X_prep, df_y.values, test_size=holdout_fraction, random_state=random_state)\n"
   ]
  },
  {
   "cell_type": "markdown",
   "metadata": {},
   "source": [
    "#### 7. Generate features via Feature Engineering pipeline"
   ]
  },
  {
   "cell_type": "code",
   "execution_count": null,
   "metadata": {},
   "outputs": [],
   "source": [
    "#Detach Feature Engineering pipeline if next, fit it, and transform the training data\n",
    "fe_pipeline = None\n",
    "if pipeline.steps[0][0] == 'cognito':\n",
    "    try:\n",
    "        fe_pipeline = Pipeline(steps=[pipeline.steps[0]])\n",
    "        X = fe_pipeline.fit_transform(X, y)\n",
    "        X_holdout = fe_pipeline.transform(X_holdout)\n",
    "        pipeline.steps = pipeline.steps[1:]\n",
    "    except IndexError:\n",
    "        try:\n",
    "            print('Trying to compose pipeline with some of cognito steps')\n",
    "            fe_pipeline = Pipeline(steps = list([pipeline.steps[0][1].steps[0],pipeline.steps[0][1].steps[1]]))\n",
    "            X = fe_pipeline.fit_transform(X, y)\n",
    "            X_holdout = fe_pipeline.transform(X_holdout)\n",
    "            pipeline.steps = pipeline.steps[1:]\n",
    "        except IndexError:\n",
    "            print('Composing pipeline without cognito steps!')\n",
    "            pipeline.steps = pipeline.steps[1:]\n"
   ]
  },
  {
   "cell_type": "markdown",
   "metadata": {},
   "source": [
    " ### 8. Additional setup: Define a function that returns a scorer for the target's positive label"
   ]
  },
  {
   "cell_type": "code",
   "execution_count": null,
   "metadata": {
    "pycharm": {
     "name": "#%%\n"
    }
   },
   "outputs": [],
   "source": [
    "# create a function to produce a scorer for a given positive label\n",
    "def make_pos_label_scorer(scorer, pos_label):\n",
    "    kwargs = {'pos_label':pos_label}\n",
    "    for prop in ['needs_proba', 'needs_threshold']:\n",
    "        if prop+'=True' in scorer._factory_args():\n",
    "            kwargs[prop] = True\n",
    "    if scorer._sign == -1:\n",
    "        kwargs['greater_is_better'] = False\n",
    "    from sklearn.metrics import make_scorer\n",
    "    scorer=make_scorer(scorer._score_func, **kwargs)\n",
    "    return scorer"
   ]
  },
  {
   "cell_type": "markdown",
   "metadata": {},
   "source": [
    "### 9. Fit pipeline, predict on Holdout set, calculate score, perform cross-validation"
   ]
  },
  {
   "cell_type": "code",
   "execution_count": null,
   "metadata": {
    "pycharm": {
     "is_executing": false
    }
   },
   "outputs": [],
   "source": [
    "# fit the remainder of the pipeline on the training data\n",
    "pipeline.fit(X,y)"
   ]
  },
  {
   "cell_type": "code",
   "execution_count": null,
   "metadata": {},
   "outputs": [],
   "source": [
    "# predict on the holdout data\n",
    "y_pred = pipeline.predict(X_holdout)"
   ]
  },
  {
   "cell_type": "code",
   "execution_count": null,
   "metadata": {},
   "outputs": [],
   "source": [
    "# compute score for the optimization metric\n",
    "# scorer may need pos_label, but not all scorers take pos_label parameter\n",
    "from sklearn.metrics import get_scorer\n",
    "scorer = get_scorer(optimization_metric)\n",
    "score = None\n",
    "#score = scorer(pipeline, X_holdout, y_holdout)  # this would suffice for simple cases\n",
    "pos_label = None  # if you want to supply the pos_label, specify it here\n",
    "if pos_label is None and 'pos_label' in _input_metadata:\n",
    "    pos_label=_input_metadata['pos_label']\n",
    "try:\n",
    "    score = scorer(pipeline, X_holdout, y_holdout)\n",
    "except Exception as e1:\n",
    "    if learning_type is \"classification\" and (pos_label is None or str(pos_label)==''):\n",
    "        print('You may have to provide a value for pos_label in order for a score to be calculated.')\n",
    "        raise(e1)\n",
    "    else:\n",
    "        exception_string=str(e1)\n",
    "        if 'pos_label' in exception_string:\n",
    "            try:\n",
    "                scorer = make_pos_label_scorer(scorer, pos_label=pos_label)\n",
    "                score = scorer(pipeline, X_holdout, y_holdout)\n",
    "                print('Retry was successful with pos_label supplied to scorer')\n",
    "            except Exception as e2:\n",
    "                print('Initial attempt to use scorer failed.  Exception was:')\n",
    "                print(e1)\n",
    "                print('')\n",
    "                print('Retry with pos_label failed.  Exception was:')\n",
    "                print(e2)\n",
    "        else:\n",
    "            raise(e1)\n",
    "\n",
    "if score is not None:\n",
    "    print(score)"
   ]
  },
  {
   "cell_type": "code",
   "execution_count": null,
   "metadata": {},
   "outputs": [],
   "source": [
    "# cross_validate pipeline using training data\n",
    "from sklearn.model_selection import cross_validate\n",
    "from sklearn.model_selection import StratifiedKFold, KFold\n",
    "if learning_type == 'classification':\n",
    "    fold_generator = StratifiedKFold(n_splits=cv_num_folds, random_state=random_state)\n",
    "else:\n",
    "    fold_generator = KFold(n_splits=cv_num_folds, random_state=random_state)\n",
    "cv_results = cross_validate(pipeline, X, y, cv=fold_generator, scoring={optimization_metric:scorer}, return_train_score=True)\n",
    "import numpy as np\n",
    "np.mean(cv_results['test_' + optimization_metric])"
   ]
  },
  {
   "cell_type": "code",
   "execution_count": null,
   "metadata": {},
   "outputs": [],
   "source": [
    "cv_results"
   ]
  }
 ],
 "metadata": {
  "kernelspec": {
   "display_name": "Python 3.6",
   "language": "python",
   "name": "python3"
  },
  "language_info": {
   "codemirror_mode": {
    "name": "ipython",
    "version": 3
   },
   "file_extension": ".py",
   "mimetype": "text/x-python",
   "name": "python",
   "nbconvert_exporter": "python",
   "pygments_lexer": "ipython3",
   "version": "3.6.9"
  }
 },
 "nbformat": 4,
 "nbformat_minor": 1
}
